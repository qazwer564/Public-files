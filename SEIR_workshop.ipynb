{
  "nbformat": 4,
  "nbformat_minor": 0,
  "metadata": {
    "colab": {
      "name": "SEIR_workshop",
      "provenance": [],
      "collapsed_sections": []
    },
    "kernelspec": {
      "name": "python3",
      "display_name": "Python 3"
    }
  },
  "cells": [
    {
      "cell_type": "markdown",
      "metadata": {
        "id": "mC031aAWgCw6"
      },
      "source": [
        "# **Data Preparation**"
      ]
    },
    {
      "cell_type": "code",
      "metadata": {
        "id": "BZvwffA5-9Zm"
      },
      "source": [
        "#import packages\n",
        "import numpy as np\n",
        "import pandas as pd\n",
        "from scipy.integrate import odeint #for handling derivatives\n",
        "import matplotlib.pyplot as plt\n",
        "plt.style.use('ggplot')\n",
        "from datetime import datetime\n",
        "from datetime import timedelta"
      ],
      "execution_count": 207,
      "outputs": []
    },
    {
      "cell_type": "code",
      "metadata": {
        "id": "myPbBptEW5-o",
        "outputId": "7710f6e0-33d0-4712-f9ed-ba497e1ea7c9",
        "colab": {
          "base_uri": "https://localhost:8080/",
          "height": 402
        }
      },
      "source": [
        "#import dataset\n",
        "\n",
        "dataset_url = \"https://raw.githubusercontent.com/qazwer564/Public-files/main/latimes-la_county-totals-1016.csv\"\n",
        "\n",
        "total_cases = pd.read_csv(dataset_url)\n",
        "\n",
        "total_cases"
      ],
      "execution_count": 208,
      "outputs": [
        {
          "output_type": "execute_result",
          "data": {
            "text/html": [
              "<div>\n",
              "<style scoped>\n",
              "    .dataframe tbody tr th:only-of-type {\n",
              "        vertical-align: middle;\n",
              "    }\n",
              "\n",
              "    .dataframe tbody tr th {\n",
              "        vertical-align: top;\n",
              "    }\n",
              "\n",
              "    .dataframe thead th {\n",
              "        text-align: right;\n",
              "    }\n",
              "</style>\n",
              "<table border=\"1\" class=\"dataframe\">\n",
              "  <thead>\n",
              "    <tr style=\"text-align: right;\">\n",
              "      <th></th>\n",
              "      <th>date</th>\n",
              "      <th>county</th>\n",
              "      <th>fips</th>\n",
              "      <th>confirmed_cases</th>\n",
              "      <th>deaths</th>\n",
              "      <th>new_confirmed_cases</th>\n",
              "      <th>new_deaths</th>\n",
              "    </tr>\n",
              "  </thead>\n",
              "  <tbody>\n",
              "    <tr>\n",
              "      <th>0</th>\n",
              "      <td>2020-10-16</td>\n",
              "      <td>Alameda</td>\n",
              "      <td>1</td>\n",
              "      <td>22408</td>\n",
              "      <td>439</td>\n",
              "      <td>38.0</td>\n",
              "      <td>6.0</td>\n",
              "    </tr>\n",
              "    <tr>\n",
              "      <th>1</th>\n",
              "      <td>2020-10-16</td>\n",
              "      <td>Alpine</td>\n",
              "      <td>3</td>\n",
              "      <td>3</td>\n",
              "      <td>0</td>\n",
              "      <td>0.0</td>\n",
              "      <td>0.0</td>\n",
              "    </tr>\n",
              "    <tr>\n",
              "      <th>2</th>\n",
              "      <td>2020-10-16</td>\n",
              "      <td>Amador</td>\n",
              "      <td>5</td>\n",
              "      <td>272</td>\n",
              "      <td>15</td>\n",
              "      <td>0.0</td>\n",
              "      <td>0.0</td>\n",
              "    </tr>\n",
              "    <tr>\n",
              "      <th>3</th>\n",
              "      <td>2020-10-16</td>\n",
              "      <td>Butte</td>\n",
              "      <td>7</td>\n",
              "      <td>2961</td>\n",
              "      <td>50</td>\n",
              "      <td>3.0</td>\n",
              "      <td>0.0</td>\n",
              "    </tr>\n",
              "    <tr>\n",
              "      <th>4</th>\n",
              "      <td>2020-10-16</td>\n",
              "      <td>Calaveras</td>\n",
              "      <td>9</td>\n",
              "      <td>333</td>\n",
              "      <td>17</td>\n",
              "      <td>2.0</td>\n",
              "      <td>1.0</td>\n",
              "    </tr>\n",
              "    <tr>\n",
              "      <th>...</th>\n",
              "      <td>...</td>\n",
              "      <td>...</td>\n",
              "      <td>...</td>\n",
              "      <td>...</td>\n",
              "      <td>...</td>\n",
              "      <td>...</td>\n",
              "      <td>...</td>\n",
              "    </tr>\n",
              "    <tr>\n",
              "      <th>12729</th>\n",
              "      <td>2020-01-26</td>\n",
              "      <td>Solano</td>\n",
              "      <td>95</td>\n",
              "      <td>0</td>\n",
              "      <td>0</td>\n",
              "      <td>NaN</td>\n",
              "      <td>NaN</td>\n",
              "    </tr>\n",
              "    <tr>\n",
              "      <th>12730</th>\n",
              "      <td>2020-01-26</td>\n",
              "      <td>Sonoma</td>\n",
              "      <td>97</td>\n",
              "      <td>0</td>\n",
              "      <td>0</td>\n",
              "      <td>NaN</td>\n",
              "      <td>NaN</td>\n",
              "    </tr>\n",
              "    <tr>\n",
              "      <th>12731</th>\n",
              "      <td>2020-01-26</td>\n",
              "      <td>Stanislaus</td>\n",
              "      <td>99</td>\n",
              "      <td>0</td>\n",
              "      <td>0</td>\n",
              "      <td>NaN</td>\n",
              "      <td>NaN</td>\n",
              "    </tr>\n",
              "    <tr>\n",
              "      <th>12732</th>\n",
              "      <td>2020-01-26</td>\n",
              "      <td>Ventura</td>\n",
              "      <td>111</td>\n",
              "      <td>0</td>\n",
              "      <td>0</td>\n",
              "      <td>NaN</td>\n",
              "      <td>NaN</td>\n",
              "    </tr>\n",
              "    <tr>\n",
              "      <th>12733</th>\n",
              "      <td>2020-01-26</td>\n",
              "      <td>Yolo</td>\n",
              "      <td>113</td>\n",
              "      <td>0</td>\n",
              "      <td>0</td>\n",
              "      <td>NaN</td>\n",
              "      <td>NaN</td>\n",
              "    </tr>\n",
              "  </tbody>\n",
              "</table>\n",
              "<p>12734 rows × 7 columns</p>\n",
              "</div>"
            ],
            "text/plain": [
              "             date      county  fips  ...  deaths  new_confirmed_cases  new_deaths\n",
              "0      2020-10-16     Alameda     1  ...     439                 38.0         6.0\n",
              "1      2020-10-16      Alpine     3  ...       0                  0.0         0.0\n",
              "2      2020-10-16      Amador     5  ...      15                  0.0         0.0\n",
              "3      2020-10-16       Butte     7  ...      50                  3.0         0.0\n",
              "4      2020-10-16   Calaveras     9  ...      17                  2.0         1.0\n",
              "...           ...         ...   ...  ...     ...                  ...         ...\n",
              "12729  2020-01-26      Solano    95  ...       0                  NaN         NaN\n",
              "12730  2020-01-26      Sonoma    97  ...       0                  NaN         NaN\n",
              "12731  2020-01-26  Stanislaus    99  ...       0                  NaN         NaN\n",
              "12732  2020-01-26     Ventura   111  ...       0                  NaN         NaN\n",
              "12733  2020-01-26        Yolo   113  ...       0                  NaN         NaN\n",
              "\n",
              "[12734 rows x 7 columns]"
            ]
          },
          "metadata": {
            "tags": []
          },
          "execution_count": 208
        }
      ]
    },
    {
      "cell_type": "code",
      "metadata": {
        "id": "_xQBXp6JZSUv",
        "outputId": "ffea9e6d-3fa7-4f10-b83d-18db60e8b16e",
        "colab": {
          "base_uri": "https://localhost:8080/",
          "height": 403
        }
      },
      "source": [
        "#Cleaning dataset\n",
        "\n",
        "#Perform a Data Quality Analysis to find missing values, NaNs etc.\n",
        "print(total_cases.isnull().sum())\n",
        "print(total_cases.info())\n"
      ],
      "execution_count": 209,
      "outputs": [
        {
          "output_type": "stream",
          "text": [
            "date                    0\n",
            "county                  0\n",
            "fips                    0\n",
            "confirmed_cases         0\n",
            "deaths                  0\n",
            "new_confirmed_cases    58\n",
            "new_deaths             58\n",
            "dtype: int64\n",
            "<class 'pandas.core.frame.DataFrame'>\n",
            "RangeIndex: 12734 entries, 0 to 12733\n",
            "Data columns (total 7 columns):\n",
            " #   Column               Non-Null Count  Dtype  \n",
            "---  ------               --------------  -----  \n",
            " 0   date                 12734 non-null  object \n",
            " 1   county               12734 non-null  object \n",
            " 2   fips                 12734 non-null  int64  \n",
            " 3   confirmed_cases      12734 non-null  int64  \n",
            " 4   deaths               12734 non-null  int64  \n",
            " 5   new_confirmed_cases  12676 non-null  float64\n",
            " 6   new_deaths           12676 non-null  float64\n",
            "dtypes: float64(2), int64(3), object(2)\n",
            "memory usage: 696.5+ KB\n",
            "None\n"
          ],
          "name": "stdout"
        }
      ]
    },
    {
      "cell_type": "code",
      "metadata": {
        "id": "T3kQT0J3axvg",
        "outputId": "fdf175d5-e51e-42b0-efaa-a67ef467307b",
        "colab": {
          "base_uri": "https://localhost:8080/",
          "height": 195
        }
      },
      "source": [
        "#select data we need\n",
        "\n",
        "la_cases = total_cases[total_cases['county']=='Los Angeles'][['date','county','confirmed_cases','deaths']]\n",
        "la_cases.head()"
      ],
      "execution_count": 210,
      "outputs": [
        {
          "output_type": "execute_result",
          "data": {
            "text/html": [
              "<div>\n",
              "<style scoped>\n",
              "    .dataframe tbody tr th:only-of-type {\n",
              "        vertical-align: middle;\n",
              "    }\n",
              "\n",
              "    .dataframe tbody tr th {\n",
              "        vertical-align: top;\n",
              "    }\n",
              "\n",
              "    .dataframe thead th {\n",
              "        text-align: right;\n",
              "    }\n",
              "</style>\n",
              "<table border=\"1\" class=\"dataframe\">\n",
              "  <thead>\n",
              "    <tr style=\"text-align: right;\">\n",
              "      <th></th>\n",
              "      <th>date</th>\n",
              "      <th>county</th>\n",
              "      <th>confirmed_cases</th>\n",
              "      <th>deaths</th>\n",
              "    </tr>\n",
              "  </thead>\n",
              "  <tbody>\n",
              "    <tr>\n",
              "      <th>18</th>\n",
              "      <td>2020-10-16</td>\n",
              "      <td>Los Angeles</td>\n",
              "      <td>287258</td>\n",
              "      <td>6856</td>\n",
              "    </tr>\n",
              "    <tr>\n",
              "      <th>76</th>\n",
              "      <td>2020-10-15</td>\n",
              "      <td>Los Angeles</td>\n",
              "      <td>286217</td>\n",
              "      <td>6834</td>\n",
              "    </tr>\n",
              "    <tr>\n",
              "      <th>134</th>\n",
              "      <td>2020-10-14</td>\n",
              "      <td>Los Angeles</td>\n",
              "      <td>285016</td>\n",
              "      <td>6812</td>\n",
              "    </tr>\n",
              "    <tr>\n",
              "      <th>192</th>\n",
              "      <td>2020-10-13</td>\n",
              "      <td>Los Angeles</td>\n",
              "      <td>283793</td>\n",
              "      <td>6793</td>\n",
              "    </tr>\n",
              "    <tr>\n",
              "      <th>250</th>\n",
              "      <td>2020-10-12</td>\n",
              "      <td>Los Angeles</td>\n",
              "      <td>283023</td>\n",
              "      <td>6773</td>\n",
              "    </tr>\n",
              "  </tbody>\n",
              "</table>\n",
              "</div>"
            ],
            "text/plain": [
              "           date       county  confirmed_cases  deaths\n",
              "18   2020-10-16  Los Angeles           287258    6856\n",
              "76   2020-10-15  Los Angeles           286217    6834\n",
              "134  2020-10-14  Los Angeles           285016    6812\n",
              "192  2020-10-13  Los Angeles           283793    6793\n",
              "250  2020-10-12  Los Angeles           283023    6773"
            ]
          },
          "metadata": {
            "tags": []
          },
          "execution_count": 210
        }
      ]
    },
    {
      "cell_type": "code",
      "metadata": {
        "id": "64KgA7LGcOHo",
        "outputId": "76fe5239-a776-4c79-fb00-616661bf85e2",
        "colab": {
          "base_uri": "https://localhost:8080/",
          "height": 431
        }
      },
      "source": [
        "#use reindex to rolocate rows\n",
        "\n",
        "index_num = la_cases.date.sort_values().index\n",
        "\n",
        "la_cases = la_cases.reindex(index_num)\n",
        "\n",
        "la_cases['date'] = pd.to_datetime(la_cases['date'])\n",
        "\n",
        "la_cases = la_cases.set_index(['date'])\n",
        "\n",
        "la_cases"
      ],
      "execution_count": 211,
      "outputs": [
        {
          "output_type": "execute_result",
          "data": {
            "text/html": [
              "<div>\n",
              "<style scoped>\n",
              "    .dataframe tbody tr th:only-of-type {\n",
              "        vertical-align: middle;\n",
              "    }\n",
              "\n",
              "    .dataframe tbody tr th {\n",
              "        vertical-align: top;\n",
              "    }\n",
              "\n",
              "    .dataframe thead th {\n",
              "        text-align: right;\n",
              "    }\n",
              "</style>\n",
              "<table border=\"1\" class=\"dataframe\">\n",
              "  <thead>\n",
              "    <tr style=\"text-align: right;\">\n",
              "      <th></th>\n",
              "      <th>county</th>\n",
              "      <th>confirmed_cases</th>\n",
              "      <th>deaths</th>\n",
              "    </tr>\n",
              "    <tr>\n",
              "      <th>date</th>\n",
              "      <th></th>\n",
              "      <th></th>\n",
              "      <th></th>\n",
              "    </tr>\n",
              "  </thead>\n",
              "  <tbody>\n",
              "    <tr>\n",
              "      <th>2020-01-26</th>\n",
              "      <td>Los Angeles</td>\n",
              "      <td>1</td>\n",
              "      <td>0</td>\n",
              "    </tr>\n",
              "    <tr>\n",
              "      <th>2020-01-27</th>\n",
              "      <td>Los Angeles</td>\n",
              "      <td>1</td>\n",
              "      <td>0</td>\n",
              "    </tr>\n",
              "    <tr>\n",
              "      <th>2020-01-28</th>\n",
              "      <td>Los Angeles</td>\n",
              "      <td>1</td>\n",
              "      <td>0</td>\n",
              "    </tr>\n",
              "    <tr>\n",
              "      <th>2020-01-29</th>\n",
              "      <td>Los Angeles</td>\n",
              "      <td>1</td>\n",
              "      <td>0</td>\n",
              "    </tr>\n",
              "    <tr>\n",
              "      <th>2020-01-30</th>\n",
              "      <td>Los Angeles</td>\n",
              "      <td>1</td>\n",
              "      <td>0</td>\n",
              "    </tr>\n",
              "    <tr>\n",
              "      <th>...</th>\n",
              "      <td>...</td>\n",
              "      <td>...</td>\n",
              "      <td>...</td>\n",
              "    </tr>\n",
              "    <tr>\n",
              "      <th>2020-10-12</th>\n",
              "      <td>Los Angeles</td>\n",
              "      <td>283023</td>\n",
              "      <td>6773</td>\n",
              "    </tr>\n",
              "    <tr>\n",
              "      <th>2020-10-13</th>\n",
              "      <td>Los Angeles</td>\n",
              "      <td>283793</td>\n",
              "      <td>6793</td>\n",
              "    </tr>\n",
              "    <tr>\n",
              "      <th>2020-10-14</th>\n",
              "      <td>Los Angeles</td>\n",
              "      <td>285016</td>\n",
              "      <td>6812</td>\n",
              "    </tr>\n",
              "    <tr>\n",
              "      <th>2020-10-15</th>\n",
              "      <td>Los Angeles</td>\n",
              "      <td>286217</td>\n",
              "      <td>6834</td>\n",
              "    </tr>\n",
              "    <tr>\n",
              "      <th>2020-10-16</th>\n",
              "      <td>Los Angeles</td>\n",
              "      <td>287258</td>\n",
              "      <td>6856</td>\n",
              "    </tr>\n",
              "  </tbody>\n",
              "</table>\n",
              "<p>265 rows × 3 columns</p>\n",
              "</div>"
            ],
            "text/plain": [
              "                 county  confirmed_cases  deaths\n",
              "date                                            \n",
              "2020-01-26  Los Angeles                1       0\n",
              "2020-01-27  Los Angeles                1       0\n",
              "2020-01-28  Los Angeles                1       0\n",
              "2020-01-29  Los Angeles                1       0\n",
              "2020-01-30  Los Angeles                1       0\n",
              "...                 ...              ...     ...\n",
              "2020-10-12  Los Angeles           283023    6773\n",
              "2020-10-13  Los Angeles           283793    6793\n",
              "2020-10-14  Los Angeles           285016    6812\n",
              "2020-10-15  Los Angeles           286217    6834\n",
              "2020-10-16  Los Angeles           287258    6856\n",
              "\n",
              "[265 rows x 3 columns]"
            ]
          },
          "metadata": {
            "tags": []
          },
          "execution_count": 211
        }
      ]
    },
    {
      "cell_type": "code",
      "metadata": {
        "id": "gsZtxKN2jxQO",
        "outputId": "d6242932-d221-4b12-f549-93e8a338862b",
        "colab": {
          "base_uri": "https://localhost:8080/",
          "height": 431
        }
      },
      "source": [
        "national_emgergency_date = '2020-03-24'\n",
        "\n",
        "national_emgergency_date = datetime.strptime(national_emgergency_date, '%Y-%m-%d')\n",
        "\n",
        "la_cases = la_cases[la_cases.index>=national_emgergency_date]\n",
        "\n",
        "la_cases"
      ],
      "execution_count": 212,
      "outputs": [
        {
          "output_type": "execute_result",
          "data": {
            "text/html": [
              "<div>\n",
              "<style scoped>\n",
              "    .dataframe tbody tr th:only-of-type {\n",
              "        vertical-align: middle;\n",
              "    }\n",
              "\n",
              "    .dataframe tbody tr th {\n",
              "        vertical-align: top;\n",
              "    }\n",
              "\n",
              "    .dataframe thead th {\n",
              "        text-align: right;\n",
              "    }\n",
              "</style>\n",
              "<table border=\"1\" class=\"dataframe\">\n",
              "  <thead>\n",
              "    <tr style=\"text-align: right;\">\n",
              "      <th></th>\n",
              "      <th>county</th>\n",
              "      <th>confirmed_cases</th>\n",
              "      <th>deaths</th>\n",
              "    </tr>\n",
              "    <tr>\n",
              "      <th>date</th>\n",
              "      <th></th>\n",
              "      <th></th>\n",
              "      <th></th>\n",
              "    </tr>\n",
              "  </thead>\n",
              "  <tbody>\n",
              "    <tr>\n",
              "      <th>2020-03-24</th>\n",
              "      <td>Los Angeles</td>\n",
              "      <td>670</td>\n",
              "      <td>10</td>\n",
              "    </tr>\n",
              "    <tr>\n",
              "      <th>2020-03-25</th>\n",
              "      <td>Los Angeles</td>\n",
              "      <td>814</td>\n",
              "      <td>13</td>\n",
              "    </tr>\n",
              "    <tr>\n",
              "      <th>2020-03-26</th>\n",
              "      <td>Los Angeles</td>\n",
              "      <td>1230</td>\n",
              "      <td>21</td>\n",
              "    </tr>\n",
              "    <tr>\n",
              "      <th>2020-03-27</th>\n",
              "      <td>Los Angeles</td>\n",
              "      <td>1482</td>\n",
              "      <td>26</td>\n",
              "    </tr>\n",
              "    <tr>\n",
              "      <th>2020-03-28</th>\n",
              "      <td>Los Angeles</td>\n",
              "      <td>1818</td>\n",
              "      <td>32</td>\n",
              "    </tr>\n",
              "    <tr>\n",
              "      <th>...</th>\n",
              "      <td>...</td>\n",
              "      <td>...</td>\n",
              "      <td>...</td>\n",
              "    </tr>\n",
              "    <tr>\n",
              "      <th>2020-10-12</th>\n",
              "      <td>Los Angeles</td>\n",
              "      <td>283023</td>\n",
              "      <td>6773</td>\n",
              "    </tr>\n",
              "    <tr>\n",
              "      <th>2020-10-13</th>\n",
              "      <td>Los Angeles</td>\n",
              "      <td>283793</td>\n",
              "      <td>6793</td>\n",
              "    </tr>\n",
              "    <tr>\n",
              "      <th>2020-10-14</th>\n",
              "      <td>Los Angeles</td>\n",
              "      <td>285016</td>\n",
              "      <td>6812</td>\n",
              "    </tr>\n",
              "    <tr>\n",
              "      <th>2020-10-15</th>\n",
              "      <td>Los Angeles</td>\n",
              "      <td>286217</td>\n",
              "      <td>6834</td>\n",
              "    </tr>\n",
              "    <tr>\n",
              "      <th>2020-10-16</th>\n",
              "      <td>Los Angeles</td>\n",
              "      <td>287258</td>\n",
              "      <td>6856</td>\n",
              "    </tr>\n",
              "  </tbody>\n",
              "</table>\n",
              "<p>207 rows × 3 columns</p>\n",
              "</div>"
            ],
            "text/plain": [
              "                 county  confirmed_cases  deaths\n",
              "date                                            \n",
              "2020-03-24  Los Angeles              670      10\n",
              "2020-03-25  Los Angeles              814      13\n",
              "2020-03-26  Los Angeles             1230      21\n",
              "2020-03-27  Los Angeles             1482      26\n",
              "2020-03-28  Los Angeles             1818      32\n",
              "...                 ...              ...     ...\n",
              "2020-10-12  Los Angeles           283023    6773\n",
              "2020-10-13  Los Angeles           283793    6793\n",
              "2020-10-14  Los Angeles           285016    6812\n",
              "2020-10-15  Los Angeles           286217    6834\n",
              "2020-10-16  Los Angeles           287258    6856\n",
              "\n",
              "[207 rows x 3 columns]"
            ]
          },
          "metadata": {
            "tags": []
          },
          "execution_count": 212
        }
      ]
    },
    {
      "cell_type": "code",
      "metadata": {
        "id": "UvOFHbcJbvQH",
        "outputId": "5fb4d2c0-aa2f-49aa-b993-e7bc443c2db0",
        "colab": {
          "base_uri": "https://localhost:8080/",
          "height": 285
        }
      },
      "source": [
        "plt.plot(la_cases['confirmed_cases'])"
      ],
      "execution_count": 213,
      "outputs": [
        {
          "output_type": "execute_result",
          "data": {
            "text/plain": [
              "[<matplotlib.lines.Line2D at 0x7f9a8c96a668>]"
            ]
          },
          "metadata": {
            "tags": []
          },
          "execution_count": 213
        },
        {
          "output_type": "display_data",
          "data": {
            "image/png": "[encoded data removed]",
            "text/plain": [
              "<Figure size 432x288 with 1 Axes>"
            ]
          },
          "metadata": {
            "tags": []
          }
        }
      ]
    },
    {
      "cell_type": "markdown",
      "metadata": {
        "id": "7OXhLHP5gItF"
      },
      "source": [
        "# **Model Building**"
      ]
    },
    {
      "cell_type": "code",
      "metadata": {
        "id": "h94OtrtcXZOy"
      },
      "source": [
        "# The SEIR model differential equations.\n",
        "def deriv(y, t, N, beta, gamma, delta):\n",
        "    S, E, I, R = y\n",
        "    dSdt = -beta * S * I / N\n",
        "    dEdt = beta * S * I / N - delta * E\n",
        "    dIdt = delta * E - gamma * I\n",
        "    dRdt = gamma * I\n",
        "    return dSdt, dEdt, dIdt, dRdt"
      ],
      "execution_count": 214,
      "outputs": []
    },
    {
      "cell_type": "code",
      "metadata": {
        "id": "ERn1lfyG8zwr"
      },
      "source": [
        "#building the model and plotting\n",
        "\n",
        "def plotseird(t, S, E, I, R, D=None, L=None, R0=None, Alpha=None, CFR=None):\n",
        "  f, ax = plt.subplots(1,1,figsize=(10,4))\n",
        "  ax.plot(t, S, 'b', alpha=0.7, linewidth=2, label='Susceptible')\n",
        "  ax.plot(t, E, 'y', alpha=0.7, linewidth=2, label='Exposed')\n",
        "  ax.plot(t, I, 'r', alpha=0.7, linewidth=2, label='Infected')\n",
        "  ax.plot(t, R, 'g', alpha=0.7, linewidth=2, label='Recovered')\n",
        "  if D is not None:\n",
        "    ax.plot(t, D, 'k', alpha=0.7, linewidth=2, label='Dead')\n",
        "    ax.plot(t, S+E+I+R+D, 'c--', alpha=0.7, linewidth=2, label='Total')\n",
        "  else:\n",
        "    ax.plot(t, S+E+I+R, 'c--', alpha=0.7, linewidth=2, label='Total')\n",
        "\n",
        "  ax.set_xlabel('Time (days)')\n",
        "\n",
        "  ax.yaxis.set_tick_params(length=0)\n",
        "  ax.xaxis.set_tick_params(length=0)\n",
        "  ax.grid(b=True, which='major', c='w', lw=2, ls='-')\n",
        "  legend = ax.legend(borderpad=2.0)\n",
        "  legend.get_frame().set_alpha(0.5)\n",
        "  for spine in ('top', 'right', 'bottom', 'left'):\n",
        "      ax.spines[spine].set_visible(False)\n",
        "  if L is not None:\n",
        "      plt.title(\"Lockdown after {} days\".format(L))\n",
        "  plt.show();\n",
        "\n",
        "  if R0 is not None or CFR is not None:\n",
        "    f = plt.figure(figsize=(12,4))\n",
        "  \n",
        "  if R0 is not None:\n",
        "    # sp1\n",
        "    ax1 = f.add_subplot(121)\n",
        "    ax1.plot(t, R0, 'b--', alpha=0.7, linewidth=2, label='R_0')\n",
        "\n",
        "    ax1.set_xlabel('Time (days)')\n",
        "    ax1.title.set_text('R_0 over time')\n",
        "    # ax.set_ylabel('Number (1000s)')\n",
        "    # ax.set_ylim(0,1.2)\n",
        "    ax1.yaxis.set_tick_params(length=0)\n",
        "    ax1.xaxis.set_tick_params(length=0)\n",
        "    ax1.grid(b=True, which='major', c='w', lw=2, ls='-')\n",
        "    legend = ax1.legend()\n",
        "    legend.get_frame().set_alpha(0.5)\n",
        "    for spine in ('top', 'right', 'bottom', 'left'):\n",
        "      ax.spines[spine].set_visible(False)\n",
        "\n",
        "  if Alpha is not None:\n",
        "    # sp2\n",
        "    ax2 = f.add_subplot(122)\n",
        "    ax2.plot(t, Alpha, 'r--', alpha=0.7, linewidth=2, label='alpha')\n",
        "\n",
        "    ax2.set_xlabel('Time (days)')\n",
        "    ax2.title.set_text('fatality rate over time')\n",
        "    # ax.set_ylabel('Number (1000s)')\n",
        "    # ax.set_ylim(0,1.2)\n",
        "    ax2.yaxis.set_tick_params(length=0)\n",
        "    ax2.xaxis.set_tick_params(length=0)\n",
        "    ax2.grid(b=True, which='major', c='w', lw=2, ls='-')\n",
        "    legend = ax2.legend()\n",
        "    legend.get_frame().set_alpha(0.5)\n",
        "    for spine in ('top', 'right', 'bottom', 'left'):\n",
        "      ax.spines[spine].set_visible(False)\n",
        "\n",
        "    plt.show();"
      ],
      "execution_count": 215,
      "outputs": []
    },
    {
      "cell_type": "code",
      "metadata": {
        "id": "5vIP3isq4Cvy"
      },
      "source": [
        "# state: S, E, I, R, \n",
        "# according to the data on the initial date:\n",
        "# N: total population of LA county\n",
        "N = 10039107                 \n",
        "# E0: initial value of exposed group \n",
        "#     (total cases of 2020-3-24 in the LA county data) \n",
        "E0 = 670\n",
        "# I0: initial value of infecious group \n",
        "#     (total cases of 2020-3-24 in the LA county data) \n",
        "I0 = 670\n",
        "# Dead0: initial value of deceased group\n",
        "#       (from the death number of 2020-3-24 in the LA county data)\n",
        "Dead0 = 11"
      ],
      "execution_count": 216,
      "outputs": []
    },
    {
      "cell_type": "markdown",
      "metadata": {
        "id": "G6XUYAAMjmnO"
      },
      "source": [
        "# Changing parameters"
      ]
    },
    {
      "cell_type": "code",
      "metadata": {
        "id": "lDGkTIcC71nL"
      },
      "source": [
        "S0 = N - E0 - I0\n",
        "R0 = Dead0\n",
        "\n",
        "\n",
        "D = 8.0 # assuming infections lasts 8 days\n",
        "gamma = 1.0 / D\n",
        "delta = 1.0 / 14 # incubation period of 14 days\n",
        "beta = 0.2\n",
        "\n",
        "#beta = R_0 * gamma  \n",
        "# R_0 = beta / gamma, so beta = R_0 * gamma\n",
        "#S0, E0, I0, R0 = N-1, 1, 0, 0  # initial conditions: one exposed"
      ],
      "execution_count": 217,
      "outputs": []
    },
    {
      "cell_type": "code",
      "metadata": {
        "id": "dd6mhXSF767T"
      },
      "source": [
        "t = range(1,208) # Grid of time points (in days)\n",
        "y0 = S0, E0, I0, R0 # Initial conditions vector\n",
        "\n",
        "# Integrate the SEIR equations over the time grid, t.\n",
        "ret = odeint(deriv, y0, t, args=(N, beta, gamma, delta))\n",
        "S, E, I, R = ret.T"
      ],
      "execution_count": 218,
      "outputs": []
    },
    {
      "cell_type": "code",
      "metadata": {
        "id": "GFv2XRtL83-j",
        "outputId": "cfd1acec-7dd9-44b1-a87c-7b89c7c86306",
        "colab": {
          "base_uri": "https://localhost:8080/",
          "height": 290
        }
      },
      "source": [
        "plotseird(t, S, E, I, R)"
      ],
      "execution_count": 219,
      "outputs": [
        {
          "output_type": "display_data",
          "data": {
            "image/png": "[encoded data removed]",
            "text/plain": [
              "<Figure size 720x288 with 1 Axes>"
            ]
          },
          "metadata": {
            "tags": []
          }
        }
      ]
    },
    {
      "cell_type": "code",
      "metadata": {
        "id": "ZAV1j28xB8on",
        "outputId": "06a87285-3b2e-435a-a9a2-5b3c5daca674",
        "colab": {
          "base_uri": "https://localhost:8080/",
          "height": 431
        }
      },
      "source": [
        "SEIR = pd.DataFrame({'S':S, 'E':E, 'I':I, 'R':R, 'days':t})\n",
        "\n",
        "SEIR['S'] = SEIR['S'].astype('int')\n",
        "SEIR['E'] = SEIR['E'].astype('int')\n",
        "SEIR['I'] = SEIR['I'].astype('int')\n",
        "SEIR['R'] = SEIR['R'].astype('int')\n",
        "\n",
        "SEIR['Total_confirmed'] = N-SEIR['S']\n",
        "\n",
        "SEIR = SEIR.set_index(la_cases.index)\n",
        "\n",
        "\n",
        "SEIR"
      ],
      "execution_count": 220,
      "outputs": [
        {
          "output_type": "execute_result",
          "data": {
            "text/html": [
              "<div>\n",
              "<style scoped>\n",
              "    .dataframe tbody tr th:only-of-type {\n",
              "        vertical-align: middle;\n",
              "    }\n",
              "\n",
              "    .dataframe tbody tr th {\n",
              "        vertical-align: top;\n",
              "    }\n",
              "\n",
              "    .dataframe thead th {\n",
              "        text-align: right;\n",
              "    }\n",
              "</style>\n",
              "<table border=\"1\" class=\"dataframe\">\n",
              "  <thead>\n",
              "    <tr style=\"text-align: right;\">\n",
              "      <th></th>\n",
              "      <th>S</th>\n",
              "      <th>E</th>\n",
              "      <th>I</th>\n",
              "      <th>R</th>\n",
              "      <th>days</th>\n",
              "      <th>Total_confirmed</th>\n",
              "    </tr>\n",
              "    <tr>\n",
              "      <th>date</th>\n",
              "      <th></th>\n",
              "      <th></th>\n",
              "      <th></th>\n",
              "      <th></th>\n",
              "      <th></th>\n",
              "      <th></th>\n",
              "    </tr>\n",
              "  </thead>\n",
              "  <tbody>\n",
              "    <tr>\n",
              "      <th>2020-03-24</th>\n",
              "      <td>10037767</td>\n",
              "      <td>670</td>\n",
              "      <td>670</td>\n",
              "      <td>11</td>\n",
              "      <td>1</td>\n",
              "      <td>1340</td>\n",
              "    </tr>\n",
              "    <tr>\n",
              "      <th>2020-03-25</th>\n",
              "      <td>10037636</td>\n",
              "      <td>749</td>\n",
              "      <td>639</td>\n",
              "      <td>92</td>\n",
              "      <td>2</td>\n",
              "      <td>1471</td>\n",
              "    </tr>\n",
              "    <tr>\n",
              "      <th>2020-03-26</th>\n",
              "      <td>10037510</td>\n",
              "      <td>819</td>\n",
              "      <td>616</td>\n",
              "      <td>171</td>\n",
              "      <td>3</td>\n",
              "      <td>1597</td>\n",
              "    </tr>\n",
              "    <tr>\n",
              "      <th>2020-03-27</th>\n",
              "      <td>10037389</td>\n",
              "      <td>880</td>\n",
              "      <td>601</td>\n",
              "      <td>247</td>\n",
              "      <td>4</td>\n",
              "      <td>1718</td>\n",
              "    </tr>\n",
              "    <tr>\n",
              "      <th>2020-03-28</th>\n",
              "      <td>10037269</td>\n",
              "      <td>934</td>\n",
              "      <td>591</td>\n",
              "      <td>321</td>\n",
              "      <td>5</td>\n",
              "      <td>1838</td>\n",
              "    </tr>\n",
              "    <tr>\n",
              "      <th>...</th>\n",
              "      <td>...</td>\n",
              "      <td>...</td>\n",
              "      <td>...</td>\n",
              "      <td>...</td>\n",
              "      <td>...</td>\n",
              "      <td>...</td>\n",
              "    </tr>\n",
              "    <tr>\n",
              "      <th>2020-10-12</th>\n",
              "      <td>9570387</td>\n",
              "      <td>114042</td>\n",
              "      <td>55505</td>\n",
              "      <td>299182</td>\n",
              "      <td>203</td>\n",
              "      <td>468720</td>\n",
              "    </tr>\n",
              "    <tr>\n",
              "      <th>2020-10-13</th>\n",
              "      <td>9559694</td>\n",
              "      <td>116502</td>\n",
              "      <td>56724</td>\n",
              "      <td>306196</td>\n",
              "      <td>204</td>\n",
              "      <td>479413</td>\n",
              "    </tr>\n",
              "    <tr>\n",
              "      <th>2020-10-14</th>\n",
              "      <td>9548780</td>\n",
              "      <td>119006</td>\n",
              "      <td>57967</td>\n",
              "      <td>313364</td>\n",
              "      <td>205</td>\n",
              "      <td>490327</td>\n",
              "    </tr>\n",
              "    <tr>\n",
              "      <th>2020-10-15</th>\n",
              "      <td>9537639</td>\n",
              "      <td>121555</td>\n",
              "      <td>59233</td>\n",
              "      <td>320689</td>\n",
              "      <td>206</td>\n",
              "      <td>501468</td>\n",
              "    </tr>\n",
              "    <tr>\n",
              "      <th>2020-10-16</th>\n",
              "      <td>9526268</td>\n",
              "      <td>124151</td>\n",
              "      <td>60523</td>\n",
              "      <td>328174</td>\n",
              "      <td>207</td>\n",
              "      <td>512839</td>\n",
              "    </tr>\n",
              "  </tbody>\n",
              "</table>\n",
              "<p>207 rows × 6 columns</p>\n",
              "</div>"
            ],
            "text/plain": [
              "                   S       E      I       R  days  Total_confirmed\n",
              "date                                                              \n",
              "2020-03-24  10037767     670    670      11     1             1340\n",
              "2020-03-25  10037636     749    639      92     2             1471\n",
              "2020-03-26  10037510     819    616     171     3             1597\n",
              "2020-03-27  10037389     880    601     247     4             1718\n",
              "2020-03-28  10037269     934    591     321     5             1838\n",
              "...              ...     ...    ...     ...   ...              ...\n",
              "2020-10-12   9570387  114042  55505  299182   203           468720\n",
              "2020-10-13   9559694  116502  56724  306196   204           479413\n",
              "2020-10-14   9548780  119006  57967  313364   205           490327\n",
              "2020-10-15   9537639  121555  59233  320689   206           501468\n",
              "2020-10-16   9526268  124151  60523  328174   207           512839\n",
              "\n",
              "[207 rows x 6 columns]"
            ]
          },
          "metadata": {
            "tags": []
          },
          "execution_count": 220
        }
      ]
    },
    {
      "cell_type": "code",
      "metadata": {
        "id": "HkG8MTkUY-L9",
        "outputId": "32814397-ab18-48e9-a1ee-8357e18e8a28",
        "colab": {
          "base_uri": "https://localhost:8080/",
          "height": 282
        }
      },
      "source": [
        "plt.plot(SEIR['Total_confirmed'])"
      ],
      "execution_count": 221,
      "outputs": [
        {
          "output_type": "execute_result",
          "data": {
            "text/plain": [
              "[<matplotlib.lines.Line2D at 0x7f9a8c94d208>]"
            ]
          },
          "metadata": {
            "tags": []
          },
          "execution_count": 221
        },
        {
          "output_type": "display_data",
          "data": {
            "image/png": "[encoded data removed]",
            "text/plain": [
              "<Figure size 432x288 with 1 Axes>"
            ]
          },
          "metadata": {
            "tags": []
          }
        }
      ]
    },
    {
      "cell_type": "code",
      "metadata": {
        "id": "T95HARXf6pL_",
        "outputId": "0f386e05-6271-46f0-9e08-b3b3cf78a747",
        "colab": {
          "base_uri": "https://localhost:8080/",
          "height": 282
        }
      },
      "source": [
        "#Comparing two lines \n",
        "\n",
        "plt.plot(SEIR['Total_confirmed'])\n",
        "plt.plot(la_cases['confirmed_cases'])"
      ],
      "execution_count": 222,
      "outputs": [
        {
          "output_type": "execute_result",
          "data": {
            "text/plain": [
              "[<matplotlib.lines.Line2D at 0x7f9a8c893898>]"
            ]
          },
          "metadata": {
            "tags": []
          },
          "execution_count": 222
        },
        {
          "output_type": "display_data",
          "data": {
            "image/png": "[encoded data removed]",
            "text/plain": [
              "<Figure size 432x288 with 1 Axes>"
            ]
          },
          "metadata": {
            "tags": []
          }
        }
      ]
    },
    {
      "cell_type": "markdown",
      "metadata": {
        "id": "9NJMOH2TcVGL"
      },
      "source": [
        "# **Training**"
      ]
    },
    {
      "cell_type": "markdown",
      "metadata": {
        "id": "fSDmKch5tx17"
      },
      "source": [
        "You can change the time you want to get a model that could be closer to the actual result. You could do that by changing the E0, I0, Dead0 and t."
      ]
    },
    {
      "cell_type": "code",
      "metadata": {
        "id": "vlDLqQyBcO0Z",
        "outputId": "0daf434b-96bf-4994-b356-ec1250b3a9d3",
        "colab": {
          "base_uri": "https://localhost:8080/",
          "height": 402
        }
      },
      "source": [
        "\n",
        "#########################################################################\n",
        "#Set up your changes here \n",
        "\n",
        "\n",
        "# N: total population of LA county\n",
        "N = 10039107                 \n",
        "# E0: initial value of exposed group \n",
        "#     (half of the total cases of 2020-3-24 in the LA county data) \n",
        "E0 = 670\n",
        "# I0: initial value of infecious group \n",
        "#     (half of the total cases of 2020-3-24 in the LA county data) \n",
        "I0 = 670\n",
        "# Dead0: initial value of deceased group\n",
        "#       (from the death number of 2020-3-24 in the LA county data)\n",
        "Dead0 = 13\n",
        "#D = 8.0 # infections lasts 8 days\n",
        "#gamma = 1.0 / D\n",
        "#delta = 1.0 / 14.0  # incubation period of 14 days\n",
        "\n",
        "S0 = N - E0 - I0\n",
        "R0 = Dead0\n",
        "\n",
        "import numpy as np\n",
        "\n",
        "\n",
        "\n",
        "#set up the preferred range\n",
        "\n",
        "gamma_range = np.arange(0.1,0.5,0.05)\n",
        "delta_range = np.arange(0.1,0.9,0.05)\n",
        "beta_range = np.arange(0.1,0.9,0.05)\n",
        "\n",
        "\n",
        "#change the days here\n",
        "\n",
        "t = range(0,207) # Grid of time points (in days)\n",
        "y0 = S0, E0, I0, R0 # Initial conditions vector\n",
        "\n",
        "\n",
        "###########################################################################\n",
        "\n",
        "del S,E,I,R\n",
        "\n",
        "\n",
        "\n",
        "gamma_list = []\n",
        "delta_list = []\n",
        "beta_list = []\n",
        "error_list = []\n",
        "\n",
        "import statistics\n",
        "\n",
        "for gamma in gamma_range:\n",
        "  for delta in delta_range:\n",
        "    for beta in beta_range:\n",
        "      # Integrate the SIR equations over the time grid, t.\n",
        "      ret = odeint(deriv, y0, t, args=(N, beta, gamma, delta))\n",
        "      S, E, I, R = ret.T\n",
        "\n",
        "      SEIR_2 = pd.DataFrame({'S':S, 'E':E, 'I':I, 'R':R, 'days':t})\n",
        "\n",
        "      SEIR_2['S'] = SEIR_2['S'].astype('int')\n",
        "      SEIR_2['E'] = SEIR_2['E'].astype('int')\n",
        "      SEIR_2['I'] = SEIR_2['I'].astype('int')\n",
        "      SEIR_2['R'] = SEIR_2['R'].astype('int')\n",
        "\n",
        "      SEIR_2['Total_confirmed'] = N-SEIR_2['S']\n",
        "\n",
        "      SEIR_2 = SEIR_2.set_index(la_cases.index)\n",
        "\n",
        "      error_1 = 0\n",
        "      error_2 = (statistics.mean(SEIR_2['Total_confirmed']-la_cases['confirmed_cases']))**2\n",
        "      error = error_1 + error_2\n",
        "\n",
        "      gamma_list.append(gamma)\n",
        "      delta_list.append(delta)\n",
        "      beta_list.append(beta)\n",
        "      error_list.append(error)\n",
        "\n",
        "data_dict = {'beta':beta_list,'delta':delta_list,'gamma':gamma_list,'error':error_list}\n",
        "comparison = pd.DataFrame(data_dict)\n",
        "comparison.sort_values(by='error')"
      ],
      "execution_count": 240,
      "outputs": [
        {
          "output_type": "execute_result",
          "data": {
            "text/html": [
              "<div>\n",
              "<style scoped>\n",
              "    .dataframe tbody tr th:only-of-type {\n",
              "        vertical-align: middle;\n",
              "    }\n",
              "\n",
              "    .dataframe tbody tr th {\n",
              "        vertical-align: top;\n",
              "    }\n",
              "\n",
              "    .dataframe thead th {\n",
              "        text-align: right;\n",
              "    }\n",
              "</style>\n",
              "<table border=\"1\" class=\"dataframe\">\n",
              "  <thead>\n",
              "    <tr style=\"text-align: right;\">\n",
              "      <th></th>\n",
              "      <th>beta</th>\n",
              "      <th>delta</th>\n",
              "      <th>gamma</th>\n",
              "      <th>error</th>\n",
              "    </tr>\n",
              "  </thead>\n",
              "  <tbody>\n",
              "    <tr>\n",
              "      <th>1030</th>\n",
              "      <td>0.40</td>\n",
              "      <td>0.10</td>\n",
              "      <td>0.30</td>\n",
              "      <td>1.651916e+07</td>\n",
              "    </tr>\n",
              "    <tr>\n",
              "      <th>1334</th>\n",
              "      <td>0.40</td>\n",
              "      <td>0.25</td>\n",
              "      <td>0.35</td>\n",
              "      <td>2.420730e+07</td>\n",
              "    </tr>\n",
              "    <tr>\n",
              "      <th>804</th>\n",
              "      <td>0.30</td>\n",
              "      <td>0.20</td>\n",
              "      <td>0.25</td>\n",
              "      <td>2.427566e+07</td>\n",
              "    </tr>\n",
              "    <tr>\n",
              "      <th>274</th>\n",
              "      <td>0.20</td>\n",
              "      <td>0.15</td>\n",
              "      <td>0.15</td>\n",
              "      <td>1.055421e+08</td>\n",
              "    </tr>\n",
              "    <tr>\n",
              "      <th>1591</th>\n",
              "      <td>0.45</td>\n",
              "      <td>0.25</td>\n",
              "      <td>0.40</td>\n",
              "      <td>1.105220e+08</td>\n",
              "    </tr>\n",
              "    <tr>\n",
              "      <th>...</th>\n",
              "      <td>...</td>\n",
              "      <td>...</td>\n",
              "      <td>...</td>\n",
              "      <td>...</td>\n",
              "    </tr>\n",
              "    <tr>\n",
              "      <th>207</th>\n",
              "      <td>0.85</td>\n",
              "      <td>0.70</td>\n",
              "      <td>0.10</td>\n",
              "      <td>7.917608e+13</td>\n",
              "    </tr>\n",
              "    <tr>\n",
              "      <th>254</th>\n",
              "      <td>0.80</td>\n",
              "      <td>0.85</td>\n",
              "      <td>0.10</td>\n",
              "      <td>7.921262e+13</td>\n",
              "    </tr>\n",
              "    <tr>\n",
              "      <th>223</th>\n",
              "      <td>0.85</td>\n",
              "      <td>0.75</td>\n",
              "      <td>0.10</td>\n",
              "      <td>7.953267e+13</td>\n",
              "    </tr>\n",
              "    <tr>\n",
              "      <th>239</th>\n",
              "      <td>0.85</td>\n",
              "      <td>0.80</td>\n",
              "      <td>0.10</td>\n",
              "      <td>7.985308e+13</td>\n",
              "    </tr>\n",
              "    <tr>\n",
              "      <th>255</th>\n",
              "      <td>0.85</td>\n",
              "      <td>0.85</td>\n",
              "      <td>0.10</td>\n",
              "      <td>8.014283e+13</td>\n",
              "    </tr>\n",
              "  </tbody>\n",
              "</table>\n",
              "<p>2048 rows × 4 columns</p>\n",
              "</div>"
            ],
            "text/plain": [
              "      beta  delta  gamma         error\n",
              "1030  0.40   0.10   0.30  1.651916e+07\n",
              "1334  0.40   0.25   0.35  2.420730e+07\n",
              "804   0.30   0.20   0.25  2.427566e+07\n",
              "274   0.20   0.15   0.15  1.055421e+08\n",
              "1591  0.45   0.25   0.40  1.105220e+08\n",
              "...    ...    ...    ...           ...\n",
              "207   0.85   0.70   0.10  7.917608e+13\n",
              "254   0.80   0.85   0.10  7.921262e+13\n",
              "223   0.85   0.75   0.10  7.953267e+13\n",
              "239   0.85   0.80   0.10  7.985308e+13\n",
              "255   0.85   0.85   0.10  8.014283e+13\n",
              "\n",
              "[2048 rows x 4 columns]"
            ]
          },
          "metadata": {
            "tags": []
          },
          "execution_count": 240
        }
      ]
    },
    {
      "cell_type": "code",
      "metadata": {
        "id": "bZeElG-agGfJ",
        "outputId": "6a1f6855-681b-4498-cdc4-9c2b92691610",
        "colab": {
          "base_uri": "https://localhost:8080/",
          "height": 282
        }
      },
      "source": [
        "\n",
        "#Change the parameter of beta, delta, gamma here\n",
        "\n",
        "ret = odeint(deriv, y0, t, args=(N, 0.4, 0.3, 0.1))  #beta, gamma, delta\n",
        "\n",
        "##########################################################################\n",
        "\n",
        "\n",
        "S, E, I, R = ret.T\n",
        "\n",
        "SEIR_2 = pd.DataFrame({'S':S, 'E':E, 'I':I, 'R':R, 'days':t})\n",
        "\n",
        "SEIR_2['S'] = SEIR_2['S'].astype('int')\n",
        "SEIR_2['E'] = SEIR_2['E'].astype('int')\n",
        "SEIR_2['I'] = SEIR_2['I'].astype('int')\n",
        "SEIR_2['R'] = SEIR_2['R'].astype('int')\n",
        "\n",
        "SEIR_2['Total_confirmed'] = N-SEIR_2['S']\n",
        "\n",
        "SEIR_2 = SEIR_2.set_index(la_cases.index)\n",
        "plt.plot(SEIR_2['Total_confirmed'])\n",
        "plt.plot(la_cases['confirmed_cases'])"
      ],
      "execution_count": 244,
      "outputs": [
        {
          "output_type": "execute_result",
          "data": {
            "text/plain": [
              "[<matplotlib.lines.Line2D at 0x7f9a8cc8a160>]"
            ]
          },
          "metadata": {
            "tags": []
          },
          "execution_count": 244
        },
        {
          "output_type": "display_data",
          "data": {
            "image/png": "[encoded data removed]",
            "text/plain": [
              "<Figure size 432x288 with 1 Axes>"
            ]
          },
          "metadata": {
            "tags": []
          }
        }
      ]
    }
  ]
}